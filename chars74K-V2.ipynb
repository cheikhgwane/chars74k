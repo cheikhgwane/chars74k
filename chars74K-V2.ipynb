{
 "cells": [
  {
   "cell_type": "code",
   "execution_count": 2,
   "metadata": {},
   "outputs": [
    {
     "name": "stdout",
     "output_type": "stream",
     "text": [
      "total sample directory : 2\n"
     ]
    },
    {
     "data": {
      "image/png": "[encoded data removed]",
      "text/plain": [
       "<Figure size 288x288 with 4 Axes>"
      ]
     },
     "metadata": {
      "needs_background": "light"
     },
     "output_type": "display_data"
    },
    {
     "name": "stdout",
     "output_type": "stream",
     "text": [
      "Size of one random image : (128, 128)\n",
      " Example image : \n",
      " [1. 1. 1. 1. 1. 1. 1. 1. 1. 1. 1. 1. 1. 1. 1. 1. 1. 1. 1. 1. 1. 1. 1. 1.\n",
      " 1. 1. 1. 1. 1. 1. 1. 1. 1. 1. 1. 1. 1. 1. 1. 1. 1. 1. 1. 1. 1. 1. 1. 1.\n",
      " 1. 1. 1. 1. 1. 1. 1. 1. 1. 1. 1. 1. 1. 1. 1. 1. 1. 1. 1. 1. 1. 1. 1. 1.\n",
      " 1. 1. 1. 1. 1. 1. 1. 1. 1. 1. 1. 1. 1. 1. 1. 1. 1. 1. 1. 1. 1. 1. 1. 1.\n",
      " 1. 1. 1. 1. 1. 1. 1. 1. 1. 1. 1. 1. 1. 1. 1. 1. 1. 1. 1. 1. 1. 1. 1. 1.\n",
      " 1. 1. 1. 1. 1. 1. 1. 1.]\n"
     ]
    }
   ],
   "source": [
    "from sklearn.preprocessing import LabelEncoder\n",
    "from keras.optimizers import RMSprop\n",
    "from keras.utils import to_categorical\n",
    "from keras.preprocessing.image import ImageDataGenerator\n",
    "import numpy as np\n",
    "from keras import layers\n",
    "from keras import models\n",
    "from random import randint\n",
    "import math\n",
    "import sys\n",
    "import os\n",
    "\n",
    "import matplotlib.pyplot as plt\n",
    "import matplotlib.image as mpimg\n",
    "import time\n",
    "# path to directory\n",
    "base_dir = \"C:\\\\Users\\\\Cheikh\\\\Desktop\\\\projetChars74k\\\\merged\"\n",
    "\n",
    "# utils functions used to plot random image in dataset\n",
    "\n",
    "\n",
    "def showFolderImageSample(base_folder, img_number=2):\n",
    "    '''\n",
    "    base_folder(String) : directory in which we'll look for sample\n",
    "    img_number : for each folder how many img to show\n",
    "    '''\n",
    "    nrows = ncols = img_number\n",
    "\n",
    "    fig = plt.gcf()\n",
    "    fig.set_size_inches(ncols * img_number, nrows * img_number)\n",
    "    dir_names = os.listdir(base_folder)\n",
    "\n",
    "    # get sample directory\n",
    "    sample_dir = []\n",
    "    for i in range(img_number):\n",
    "        sample_dir.append(dir_names[randint(0,len(dir_names)-1)])\n",
    "    dir_names = [os.path.join(base_folder, dname) for dname in sample_dir]\n",
    "\n",
    "    print(\"total sample directory : {}\".format(len(dir_names)))\n",
    "    # for each sample directory get img_number random image\n",
    "\n",
    "    img = []\n",
    "    for d in dir_names:\n",
    "        for i in range(img_number):\n",
    "            img.append(os.path.join(d, os.listdir(\n",
    "                d)[randint(0, len(os.listdir(d)) - 1)]))\n",
    "\n",
    "    for i, img_path in enumerate(img):\n",
    "        # Set up subplot; subplot indices start at 1\n",
    "        sp = plt.subplot(nrows, ncols, i + 1)\n",
    "        sp.axis('Off')  # Don't show axes (or gridlines)\n",
    "        img = mpimg.imread(img_path)\n",
    "        plt.imshow(img)\n",
    "\n",
    "    plt.show()\n",
    "    print(\"Size of one random image : {}\".format(img.shape))\n",
    "    print(\" Example image : \\n {}\".format(img[0]))\n",
    "\n",
    "########################################################################\n",
    "\n",
    "\n",
    "def dirTotalFile(base):\n",
    "    fileNumber = 0\n",
    "    if(os.path.isfile(base)):\n",
    "        return 0\n",
    "    _dir = os.listdir(base)\n",
    "    for d in _dir:\n",
    "        _d = os.path.join(base, d)\n",
    "        if(os.path.isdir(_d)):\n",
    "            fileNumber += dirTotalFile(_d)\n",
    "        else:\n",
    "            fileNumber += 1\n",
    "    return fileNumber\n",
    "\n",
    "\n",
    "########################################################################\n",
    "\n",
    "showFolderImageSample(base_dir,img_number=2)\n"
   ]
  },
  {
   "cell_type": "markdown",
   "metadata": {},
   "source": [
    "train_datagen = ImageDataGenerator(rescale=1./255,validation_split=0.2)\n",
    "\n",
    "val_datagen = ImageDataGenerator(rescale=1./255)\n",
    "\n",
    "train_generator = train_datagen.flow_from_directory(\n",
    "    base_dir,\n",
    "    target_size=(128,128),\n",
    "    batch_size=30,\n",
    "    class_mode=\"categorical\",\n",
    "    subset=\"training\"\n",
    ")\n",
    "\n",
    "validation_generator = train_datagen.flow_from_directory(\n",
    "    base_dir,\n",
    "    target_size=(128,128),\n",
    "    batch_size=30,\n",
    "    class_mode=\"categorical\",\n",
    "    subset=\"validation\"\n",
    ")"
   ]
  },
  {
   "cell_type": "code",
   "execution_count": 19,
   "metadata": {
    "scrolled": true
   },
   "outputs": [
    {
     "name": "stdout",
     "output_type": "stream",
     "text": [
      "_________________________________________________________________\n",
      "Layer (type)                 Output Shape              Param #   \n",
      "=================================================================\n",
      "conv2d_16 (Conv2D)           (None, 126, 126, 32)      896       \n",
      "_________________________________________________________________\n",
      "max_pooling2d_16 (MaxPooling (None, 63, 63, 32)        0         \n",
      "_________________________________________________________________\n",
      "conv2d_17 (Conv2D)           (None, 62, 62, 64)        8256      \n",
      "_________________________________________________________________\n",
      "max_pooling2d_17 (MaxPooling (None, 31, 31, 64)        0         \n",
      "_________________________________________________________________\n",
      "flatten_8 (Flatten)          (None, 61504)             0         \n",
      "_________________________________________________________________\n",
      "dense_8 (Dense)              (None, 62)                3813310   \n",
      "=================================================================\n",
      "Total params: 3,822,462\n",
      "Trainable params: 3,822,462\n",
      "Non-trainable params: 0\n",
      "_________________________________________________________________\n"
     ]
    }
   ],
   "source": [
    "# keras font model\n",
    "from keras import optimizers\n",
    "\n",
    "nodes = 32\n",
    "optimizer = optimizers.rmsprop(lr=0.001)\n",
    "\n",
    "network = models.Sequential()\n",
    "network.add(layers.Conv2D(32,3,activation='relu',input_shape=(128,128,3)))\n",
    "network.add(layers.MaxPooling2D(2))\n",
    "\n",
    "network.add(layers.Conv2D(64,2,activation=\"relu\", input_shape=(128,128,3)))\n",
    "network.add(layers.MaxPooling2D(2))\n",
    "\n",
    "network.add(layers.Flatten())\n",
    "network.add(layers.Dense(62, activation='softmax'))\n",
    "\n",
    "network.summary()\n"
   ]
  },
  {
   "cell_type": "code",
   "execution_count": 20,
   "metadata": {},
   "outputs": [
    {
     "name": "stdout",
     "output_type": "stream",
     "text": [
      "Epoch 1/10\n",
      "100/100 [==============================] - 32s 322ms/step - loss: 2.8364 - acc: 0.4063 - val_loss: 1.4055 - val_acc: 0.6300\n",
      "Epoch 2/10\n",
      "100/100 [==============================] - 43s 428ms/step - loss: 1.7691 - acc: 0.5767 - val_loss: 0.9610 - val_acc: 0.7633\n",
      "Epoch 3/10\n",
      "100/100 [==============================] - 39s 391ms/step - loss: 1.5262 - acc: 0.6317 - val_loss: 0.7824 - val_acc: 0.7733\n",
      "Epoch 4/10\n",
      "100/100 [==============================] - 38s 376ms/step - loss: 1.4885 - acc: 0.6477 - val_loss: 0.8089 - val_acc: 0.7733\n",
      "Epoch 5/10\n",
      "100/100 [==============================] - 38s 380ms/step - loss: 1.3573 - acc: 0.6647 - val_loss: 0.7526 - val_acc: 0.7833\n",
      "Epoch 6/10\n",
      "100/100 [==============================] - 39s 392ms/step - loss: 1.3288 - acc: 0.6770 - val_loss: 0.6995 - val_acc: 0.7833\n",
      "Epoch 7/10\n",
      "100/100 [==============================] - 39s 385ms/step - loss: 1.2099 - acc: 0.7057 - val_loss: 0.5615 - val_acc: 0.8300\n",
      "Epoch 8/10\n",
      "100/100 [==============================] - 38s 375ms/step - loss: 1.1379 - acc: 0.7183 - val_loss: 0.6263 - val_acc: 0.8000\n",
      "Epoch 9/10\n",
      "100/100 [==============================] - 38s 382ms/step - loss: 1.1241 - acc: 0.7203 - val_loss: 0.6130 - val_acc: 0.8067\n",
      "Epoch 10/10\n",
      "100/100 [==============================] - 37s 373ms/step - loss: 1.1548 - acc: 0.7160 - val_loss: 0.6363 - val_acc: 0.8100\n"
     ]
    },
    {
     "data": {
      "image/png": "[encoded data removed]",
      "text/plain": [
       "<Figure size 1152x576 with 2 Axes>"
      ]
     },
     "metadata": {
      "needs_background": "light"
     },
     "output_type": "display_data"
    }
   ],
   "source": [
    "\n",
    "epochs = 10\n",
    "\n",
    "network.compile(loss='categorical_crossentropy',\n",
    "                optimizer=optimizer,\n",
    "                metrics=['acc'])\n",
    "\n",
    "\n",
    "history = network.fit_generator(\n",
    "    train_generator,\n",
    "    steps_per_epoch=100,\n",
    "    epochs=epochs,\n",
    "    verbose=1,\n",
    "    validation_data=validation_generator,\n",
    "    validation_steps=10\n",
    ")\n",
    "\n",
    "\n",
    "history_dict = history.history \n",
    "loss_values = history_dict['loss']\n",
    "val_loss_values = history_dict['val_loss']\n",
    "acc_values = history_dict['acc']\n",
    "val_acc_values = history_dict['val_acc']\n",
    "plt.rcParams['figure.figsize'] = (16,8) # Make the figures a bit bigger\n",
    "fig,(ax1,ax2,) = plt.subplots(1,2)\n",
    "\n",
    "x = range(1,epochs+1)\n",
    "ax1.plot(x,loss_values,'bo',label='Training Loss')\n",
    "ax1.plot(x,val_loss_values,'ro',label='Validation Loss')\n",
    "ax1.set_title('Training and Validation loss ')\n",
    "ax1.set_xlabel('Epochs')\n",
    "ax1.set_ylabel('Loss')\n",
    "ax1.legend()\n",
    "\n",
    "\n",
    "ax2.plot(x,acc_values,'b',label='Training Accuracy')\n",
    "ax2.plot(x,val_acc_values,'r',label='Validation Accuracy')\n",
    "ax2.set_title('Training and Validation accuracy ')\n",
    "ax2.set_xlabel('Epochs')\n",
    "ax2.set_ylabel('Accuracy')\n",
    "ax2.legend()\n",
    "\n",
    "plt.show()\n"
   ]
  },
  {
   "cell_type": "code",
   "execution_count": 40,
   "metadata": {},
   "outputs": [
    {
     "name": "stdout",
     "output_type": "stream",
     "text": [
      "100/100 [==============================] - 7s 65ms/step\n",
      "accuracy on test set : 0.7293333327770233\n"
     ]
    }
   ],
   "source": [
    "test_loss, test_acc = network.evaluate_generator(validation_generator,verbose=1,steps=100)\n",
    "print('accuracy on test set : {}'.format(test_acc))"
   ]
  },
  {
   "cell_type": "code",
   "execution_count": null,
   "metadata": {},
   "outputs": [],
   "source": []
  }
 ],
 "metadata": {
  "kernelspec": {
   "display_name": "Python 3",
   "language": "python",
   "name": "python3"
  },
  "language_info": {
   "codemirror_mode": {
    "name": "ipython",
    "version": 3
   },
   "file_extension": ".py",
   "mimetype": "text/x-python",
   "name": "python",
   "nbconvert_exporter": "python",
   "pygments_lexer": "ipython3",
   "version": "3.7.5"
  }
 },
 "nbformat": 4,
 "nbformat_minor": 2
}
