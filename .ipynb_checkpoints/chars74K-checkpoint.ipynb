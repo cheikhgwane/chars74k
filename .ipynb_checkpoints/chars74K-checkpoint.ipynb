{
 "cells": [
  {
   "cell_type": "code",
   "execution_count": 85,
   "metadata": {},
   "outputs": [
    {
     "name": "stdout",
     "output_type": "stream",
     "text": [
      "Total training data  0\n",
      "Total validation data  0\n",
      "Total test data  0\n",
      "total sample directory : 2\n"
     ]
    },
    {
     "data": {
      "image/png": "[encoded data removed]",
      "text/plain": [
       "<Figure size 288x288 with 4 Axes>"
      ]
     },
     "metadata": {
      "needs_background": "light"
     },
     "output_type": "display_data"
    },
    {
     "name": "stdout",
     "output_type": "stream",
     "text": [
      "Size of one random image : (128, 128)\n"
     ]
    }
   ],
   "source": [
    "from keras.preprocessing import image\n",
    "import tarfile\n",
    "import os \n",
    "import platform\n",
    "import matplotlib.pyplot as plt\n",
    "import matplotlib.image as mpimg\n",
    "\n",
    "base_dir = os.getcwd()\n",
    "\n",
    "fnt_base_dir = os.path.join(base_dir,\"EnglishFnt\")\n",
    "img_base_dir = os.path.join(base_dir,\"EnglishImg\")\n",
    "hnd_base_dir = os.path.join(base_dir,\"EnglishHnd\")\n",
    "\n",
    "#utils functions used to plot random image in dataset\n",
    "def showFolderImageSample(base_folder,img_number=2):\n",
    "    '''\n",
    "    base_folder(String) : directory in which we'll look for sample\n",
    "    img_number : for each folder how many img to show\n",
    "    '''\n",
    "    nrows = ncols = img_number\n",
    "    \n",
    "    fig = plt.gcf()\n",
    "    fig.set_size_inches(ncols * img_number , nrows * img_number)\n",
    "    dir_names =os.listdir(base_folder)\n",
    "    \n",
    "    #get sample directory\n",
    "    sample_dir=[]\n",
    "    for i in range(img_number):\n",
    "        sample_dir.append(dir_names[randint(0,61)])\n",
    "    dir_names = [os.path.join(base_folder,dname) for dname in sample_dir]\n",
    "    \n",
    "    print(\"total sample directory : {}\".format(len(dir_names)))\n",
    "    #for each sample directory get img_number random image\n",
    "    \n",
    "    img =[]\n",
    "    for d in dir_names :\n",
    "        for i in range(img_number):\n",
    "            img.append(os.path.join(d,os.listdir(d)[randint(0,len(os.listdir(d)))]))\n",
    "    \n",
    "    for i,img_path in enumerate(img):\n",
    "        # Set up subplot; subplot indices start at 1\n",
    "        sp = plt.subplot(nrows, ncols, i + 1)\n",
    "        sp.axis('Off') # Don't show axes (or gridlines)\n",
    "            \n",
    "        img = mpimg.imread(img_path)\n",
    "        plt.imshow(img)\n",
    "            \n",
    "    plt.show()\n",
    "    print(\"Size of one random image : {}\".format(img.shape))\n",
    "\n",
    "########################################################################\n",
    "def datasetInfo(base_dir):\n",
    "    print(\"Total training data  {}\".format(len(os.listdir(os.path.join(base_dir,\"training\")))))\n",
    "    print(\"Total validation data  {}\".format(len(os.listdir(os.path.join(base_dir,\"validation\")))))\n",
    "    print(\"Total test data  {}\".format(len(os.listdir(os.path.join(base_dir,\"test\")))))\n",
    "\n",
    "########################################################################\n",
    "datasetInfo(fnt_base_dir)\n",
    "showFolderImageSample(fnt_base_dir)"
   ]
  },
  {
   "cell_type": "code",
   "execution_count": 91,
   "metadata": {},
   "outputs": [
    {
     "name": "stdout",
     "output_type": "stream",
     "text": [
      "38\n"
     ]
    }
   ],
   "source": [
    "# base model for font image\n",
    "from tensorflow.keras.preprocessing.image import ImageDataGenerator\n",
    "import math\n",
    "#scale image to have it pixel values between 0 and 1\n",
    "fnt_train_data = ImageDataGenerator(rescale=1./255)\n",
    "fnt_validation_date = ImageDataGenerator(rescale=1./255)\n",
    "fnt_test_data = ImageDataGenerator(rescale=1./255)\n"
   ]
  },
  {
   "cell_type": "code",
   "execution_count": null,
   "metadata": {},
   "outputs": [],
   "source": []
  }
 ],
 "metadata": {
  "kernelspec": {
   "display_name": "Python 3",
   "language": "python",
   "name": "python3"
  },
  "language_info": {
   "codemirror_mode": {
    "name": "ipython",
    "version": 3
   },
   "file_extension": ".py",
   "mimetype": "text/x-python",
   "name": "python",
   "nbconvert_exporter": "python",
   "pygments_lexer": "ipython3",
   "version": "3.7.5"
  }
 },
 "nbformat": 4,
 "nbformat_minor": 2
}
